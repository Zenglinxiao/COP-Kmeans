{
 "cells": [
  {
   "cell_type": "code",
   "execution_count": 1,
   "metadata": {},
   "outputs": [],
   "source": [
    "%matplotlib inline"
   ]
  },
  {
   "cell_type": "code",
   "execution_count": 2,
   "metadata": {},
   "outputs": [],
   "source": [
    "import numpy as np\n",
    "import matplotlib.pyplot as plt\n",
    "\n",
    "from sklearn.datasets import load_iris"
   ]
  },
  {
   "cell_type": "code",
   "execution_count": 3,
   "metadata": {},
   "outputs": [],
   "source": [
    "iris = load_iris()\n",
    "X = iris.data\n",
    "y = iris.target"
   ]
  },
  {
   "cell_type": "code",
   "execution_count": 4,
   "metadata": {},
   "outputs": [
    {
     "name": "stdout",
     "output_type": "stream",
     "text": [
      "[[5.1 3.5 1.4 0.2]\n",
      " [4.9 3.  1.4 0.2]\n",
      " [4.7 3.2 1.3 0.2]\n",
      " [4.6 3.1 1.5 0.2]\n",
      " [5.  3.6 1.4 0.2]\n",
      " [5.4 3.9 1.7 0.4]\n",
      " [4.6 3.4 1.4 0.3]\n",
      " [5.  3.4 1.5 0.2]\n",
      " [4.4 2.9 1.4 0.2]\n",
      " [4.9 3.1 1.5 0.1]\n",
      " [5.4 3.7 1.5 0.2]\n",
      " [4.8 3.4 1.6 0.2]\n",
      " [4.8 3.  1.4 0.1]\n",
      " [4.3 3.  1.1 0.1]\n",
      " [5.8 4.  1.2 0.2]\n",
      " [5.7 4.4 1.5 0.4]\n",
      " [5.4 3.9 1.3 0.4]\n",
      " [5.1 3.5 1.4 0.3]\n",
      " [5.7 3.8 1.7 0.3]\n",
      " [5.1 3.8 1.5 0.3]\n",
      " [5.4 3.4 1.7 0.2]\n",
      " [5.1 3.7 1.5 0.4]\n",
      " [4.6 3.6 1.  0.2]\n",
      " [5.1 3.3 1.7 0.5]\n",
      " [4.8 3.4 1.9 0.2]\n",
      " [5.  3.  1.6 0.2]\n",
      " [5.  3.4 1.6 0.4]\n",
      " [5.2 3.5 1.5 0.2]\n",
      " [5.2 3.4 1.4 0.2]\n",
      " [4.7 3.2 1.6 0.2]\n",
      " [4.8 3.1 1.6 0.2]\n",
      " [5.4 3.4 1.5 0.4]\n",
      " [5.2 4.1 1.5 0.1]\n",
      " [5.5 4.2 1.4 0.2]\n",
      " [4.9 3.1 1.5 0.2]\n",
      " [5.  3.2 1.2 0.2]\n",
      " [5.5 3.5 1.3 0.2]\n",
      " [4.9 3.6 1.4 0.1]\n",
      " [4.4 3.  1.3 0.2]\n",
      " [5.1 3.4 1.5 0.2]\n",
      " [5.  3.5 1.3 0.3]\n",
      " [4.5 2.3 1.3 0.3]\n",
      " [4.4 3.2 1.3 0.2]\n",
      " [5.  3.5 1.6 0.6]\n",
      " [5.1 3.8 1.9 0.4]\n",
      " [4.8 3.  1.4 0.3]\n",
      " [5.1 3.8 1.6 0.2]\n",
      " [4.6 3.2 1.4 0.2]\n",
      " [5.3 3.7 1.5 0.2]\n",
      " [5.  3.3 1.4 0.2]\n",
      " [7.  3.2 4.7 1.4]\n",
      " [6.4 3.2 4.5 1.5]\n",
      " [6.9 3.1 4.9 1.5]\n",
      " [5.5 2.3 4.  1.3]\n",
      " [6.5 2.8 4.6 1.5]\n",
      " [5.7 2.8 4.5 1.3]\n",
      " [6.3 3.3 4.7 1.6]\n",
      " [4.9 2.4 3.3 1. ]\n",
      " [6.6 2.9 4.6 1.3]\n",
      " [5.2 2.7 3.9 1.4]\n",
      " [5.  2.  3.5 1. ]\n",
      " [5.9 3.  4.2 1.5]\n",
      " [6.  2.2 4.  1. ]\n",
      " [6.1 2.9 4.7 1.4]\n",
      " [5.6 2.9 3.6 1.3]\n",
      " [6.7 3.1 4.4 1.4]\n",
      " [5.6 3.  4.5 1.5]\n",
      " [5.8 2.7 4.1 1. ]\n",
      " [6.2 2.2 4.5 1.5]\n",
      " [5.6 2.5 3.9 1.1]\n",
      " [5.9 3.2 4.8 1.8]\n",
      " [6.1 2.8 4.  1.3]\n",
      " [6.3 2.5 4.9 1.5]\n",
      " [6.1 2.8 4.7 1.2]\n",
      " [6.4 2.9 4.3 1.3]\n",
      " [6.6 3.  4.4 1.4]\n",
      " [6.8 2.8 4.8 1.4]\n",
      " [6.7 3.  5.  1.7]\n",
      " [6.  2.9 4.5 1.5]\n",
      " [5.7 2.6 3.5 1. ]\n",
      " [5.5 2.4 3.8 1.1]\n",
      " [5.5 2.4 3.7 1. ]\n",
      " [5.8 2.7 3.9 1.2]\n",
      " [6.  2.7 5.1 1.6]\n",
      " [5.4 3.  4.5 1.5]\n",
      " [6.  3.4 4.5 1.6]\n",
      " [6.7 3.1 4.7 1.5]\n",
      " [6.3 2.3 4.4 1.3]\n",
      " [5.6 3.  4.1 1.3]\n",
      " [5.5 2.5 4.  1.3]\n",
      " [5.5 2.6 4.4 1.2]\n",
      " [6.1 3.  4.6 1.4]\n",
      " [5.8 2.6 4.  1.2]\n",
      " [5.  2.3 3.3 1. ]\n",
      " [5.6 2.7 4.2 1.3]\n",
      " [5.7 3.  4.2 1.2]\n",
      " [5.7 2.9 4.2 1.3]\n",
      " [6.2 2.9 4.3 1.3]\n",
      " [5.1 2.5 3.  1.1]\n",
      " [5.7 2.8 4.1 1.3]\n",
      " [6.3 3.3 6.  2.5]\n",
      " [5.8 2.7 5.1 1.9]\n",
      " [7.1 3.  5.9 2.1]\n",
      " [6.3 2.9 5.6 1.8]\n",
      " [6.5 3.  5.8 2.2]\n",
      " [7.6 3.  6.6 2.1]\n",
      " [4.9 2.5 4.5 1.7]\n",
      " [7.3 2.9 6.3 1.8]\n",
      " [6.7 2.5 5.8 1.8]\n",
      " [7.2 3.6 6.1 2.5]\n",
      " [6.5 3.2 5.1 2. ]\n",
      " [6.4 2.7 5.3 1.9]\n",
      " [6.8 3.  5.5 2.1]\n",
      " [5.7 2.5 5.  2. ]\n",
      " [5.8 2.8 5.1 2.4]\n",
      " [6.4 3.2 5.3 2.3]\n",
      " [6.5 3.  5.5 1.8]\n",
      " [7.7 3.8 6.7 2.2]\n",
      " [7.7 2.6 6.9 2.3]\n",
      " [6.  2.2 5.  1.5]\n",
      " [6.9 3.2 5.7 2.3]\n",
      " [5.6 2.8 4.9 2. ]\n",
      " [7.7 2.8 6.7 2. ]\n",
      " [6.3 2.7 4.9 1.8]\n",
      " [6.7 3.3 5.7 2.1]\n",
      " [7.2 3.2 6.  1.8]\n",
      " [6.2 2.8 4.8 1.8]\n",
      " [6.1 3.  4.9 1.8]\n",
      " [6.4 2.8 5.6 2.1]\n",
      " [7.2 3.  5.8 1.6]\n",
      " [7.4 2.8 6.1 1.9]\n",
      " [7.9 3.8 6.4 2. ]\n",
      " [6.4 2.8 5.6 2.2]\n",
      " [6.3 2.8 5.1 1.5]\n",
      " [6.1 2.6 5.6 1.4]\n",
      " [7.7 3.  6.1 2.3]\n",
      " [6.3 3.4 5.6 2.4]\n",
      " [6.4 3.1 5.5 1.8]\n",
      " [6.  3.  4.8 1.8]\n",
      " [6.9 3.1 5.4 2.1]\n",
      " [6.7 3.1 5.6 2.4]\n",
      " [6.9 3.1 5.1 2.3]\n",
      " [5.8 2.7 5.1 1.9]\n",
      " [6.8 3.2 5.9 2.3]\n",
      " [6.7 3.3 5.7 2.5]\n",
      " [6.7 3.  5.2 2.3]\n",
      " [6.3 2.5 5.  1.9]\n",
      " [6.5 3.  5.2 2. ]\n",
      " [6.2 3.4 5.4 2.3]\n",
      " [5.9 3.  5.1 1.8]]\n"
     ]
    }
   ],
   "source": [
    "print(X)"
   ]
  },
  {
   "cell_type": "code",
   "execution_count": 5,
   "metadata": {},
   "outputs": [],
   "source": [
    "from run_ckm import read_constraints"
   ]
  },
  {
   "cell_type": "code",
   "execution_count": 6,
   "metadata": {},
   "outputs": [
    {
     "name": "stdout",
     "output_type": "stream",
     "text": [
      "copkmeans  examples  LICENSE  README.md  setup.py  Untitled.ipynb\r\n"
     ]
    }
   ],
   "source": [
    "!ls"
   ]
  },
  {
   "cell_type": "code",
   "execution_count": 7,
   "metadata": {},
   "outputs": [
    {
     "name": "stdout",
     "output_type": "stream",
     "text": [
      "iris.constraints  iris.data  runner.sh\r\n"
     ]
    }
   ],
   "source": [
    "!ls examples"
   ]
  },
  {
   "cell_type": "code",
   "execution_count": 8,
   "metadata": {},
   "outputs": [],
   "source": [
    "must_link, not_link = read_constraints(\"examples/iris.constraints\")"
   ]
  },
  {
   "cell_type": "code",
   "execution_count": 9,
   "metadata": {},
   "outputs": [
    {
     "name": "stdout",
     "output_type": "stream",
     "text": [
      "must_link: [(39, 17), (53, 56), (13, 32), (110, 136), (97, 83), (130, 129), (27, 20), (99, 95), (63, 68), (74, 98), (82, 96), (126, 115), (60, 58), (142, 123), (77, 71), (69, 65), (52, 54), (53, 80), (131, 104)];\n",
      "can not link: [(11, 110), (84, 26), (73, 49), (119, 58), (114, 63), (136, 65), (117, 92), (63, 148), (119, 14), (55, 102), (137, 11), (60, 3), (68, 140), (131, 88), (86, 42), (135, 86), (117, 37), (26, 144), (109, 47), (28, 100), (127, 15), (111, 89), (18, 87), (38, 139), (129, 10), (71, 20), (117, 97), (67, 129), (47, 127), (37, 91), (3, 118), (41, 130), (133, 54), (122, 54), (142, 62), (43, 121), (133, 22), (139, 86), (9, 95), (68, 132), (115, 88)]\n"
     ]
    }
   ],
   "source": [
    "print(f\"must_link: {must_link};\\ncan not link: {not_link}\")"
   ]
  },
  {
   "cell_type": "code",
   "execution_count": 10,
   "metadata": {},
   "outputs": [],
   "source": [
    "import cop_kmeans"
   ]
  },
  {
   "cell_type": "code",
   "execution_count": 12,
   "metadata": {
    "scrolled": true
   },
   "outputs": [
    {
     "name": "stdout",
     "output_type": "stream",
     "text": [
      "must_link transitive graph:{0: set(), 1: set(), 2: set(), 3: set(), 4: set(), 5: set(), 6: set(), 7: set(), 8: set(), 9: set(), 10: set(), 11: set(), 12: set(), 13: {32}, 14: set(), 15: set(), 16: set(), 17: {39}, 18: set(), 19: set(), 20: {27}, 21: set(), 22: set(), 23: set(), 24: set(), 25: set(), 26: set(), 27: {20}, 28: set(), 29: set(), 30: set(), 31: set(), 32: {13}, 33: set(), 34: set(), 35: set(), 36: set(), 37: set(), 38: set(), 39: {17}, 40: set(), 41: set(), 42: set(), 43: set(), 44: set(), 45: set(), 46: set(), 47: set(), 48: set(), 49: set(), 50: set(), 51: set(), 52: {54}, 53: {56, 80}, 54: {52}, 55: set(), 56: {80, 53}, 57: set(), 58: {60}, 59: set(), 60: {58}, 61: set(), 62: set(), 63: {68}, 64: set(), 65: {69}, 66: set(), 67: set(), 68: {63}, 69: {65}, 70: set(), 71: {77}, 72: set(), 73: set(), 74: {98}, 75: set(), 76: set(), 77: {71}, 78: set(), 79: set(), 80: {56, 53}, 81: set(), 82: {96}, 83: {97}, 84: set(), 85: set(), 86: set(), 87: set(), 88: set(), 89: set(), 90: set(), 91: set(), 92: set(), 93: set(), 94: set(), 95: {99}, 96: {82}, 97: {83}, 98: {74}, 99: {95}, 100: set(), 101: set(), 102: set(), 103: set(), 104: {131}, 105: set(), 106: set(), 107: set(), 108: set(), 109: set(), 110: {136}, 111: set(), 112: set(), 113: set(), 114: set(), 115: {126}, 116: set(), 117: set(), 118: set(), 119: set(), 120: set(), 121: set(), 122: set(), 123: {142}, 124: set(), 125: set(), 126: {115}, 127: set(), 128: set(), 129: {130}, 130: {129}, 131: {104}, 132: set(), 133: set(), 134: set(), 135: set(), 136: {110}, 137: set(), 138: set(), 139: set(), 140: set(), 141: set(), 142: {123}, 143: set(), 144: set(), 145: set(), 146: set(), 147: set(), 148: set(), 149: set()};\n",
      "can not link graph:{0: set(), 1: set(), 2: set(), 3: {58, 60, 118}, 4: set(), 5: set(), 6: set(), 7: set(), 8: set(), 9: {99, 95}, 10: {129, 130}, 11: {136, 137, 110}, 12: set(), 13: set(), 14: {119}, 15: {127}, 16: set(), 17: set(), 18: {87}, 19: set(), 20: {77, 71}, 21: set(), 22: {133}, 23: set(), 24: set(), 25: set(), 26: {144, 84}, 27: {77, 71}, 28: {100}, 29: set(), 30: set(), 31: set(), 32: set(), 33: set(), 34: set(), 35: set(), 36: set(), 37: {91, 117}, 38: {139}, 39: set(), 40: set(), 41: {129, 130}, 42: {86}, 43: {121}, 44: set(), 45: set(), 46: set(), 47: {109, 127}, 48: set(), 49: {73}, 50: set(), 51: set(), 52: {122, 133}, 53: set(), 54: {122, 133}, 55: {102}, 56: set(), 57: set(), 58: {3, 119}, 59: set(), 60: {3, 119}, 61: set(), 62: {123, 142}, 63: {140, 114, 148, 132}, 64: set(), 65: {136, 110}, 66: set(), 67: {129, 130}, 68: {140, 114, 148, 132}, 69: {136, 110}, 70: set(), 71: {27, 20}, 72: set(), 73: {49}, 74: set(), 75: set(), 76: set(), 77: {27, 20}, 78: set(), 79: set(), 80: set(), 81: set(), 82: set(), 83: {117}, 84: {26}, 85: set(), 86: {42, 139, 135}, 87: {18}, 88: {104, 115, 131, 126}, 89: {111}, 90: set(), 91: {37}, 92: {117}, 93: set(), 94: set(), 95: {9}, 96: set(), 97: {117}, 98: set(), 99: {9}, 100: {28}, 101: set(), 102: {55}, 103: set(), 104: {88}, 105: set(), 106: set(), 107: set(), 108: set(), 109: {47}, 110: {65, 11, 69}, 111: {89}, 112: set(), 113: set(), 114: {68, 63}, 115: {88}, 116: set(), 117: {97, 83, 92, 37}, 118: {3}, 119: {58, 60, 14}, 120: set(), 121: {43}, 122: {52, 54}, 123: {62}, 124: set(), 125: set(), 126: {88}, 127: {47, 15}, 128: set(), 129: {41, 10, 67}, 130: {41, 10, 67}, 131: {88}, 132: {68, 63}, 133: {52, 54, 22}, 134: set(), 135: {86}, 136: {65, 11, 69}, 137: {11}, 138: set(), 139: {86, 38}, 140: {68, 63}, 141: set(), 142: {62}, 143: set(), 144: {26}, 145: set(), 146: set(), 147: set(), 148: {68, 63}, 149: set()}\n"
     ]
    }
   ],
   "source": [
    "ml_graph, cl_graph = cop_kmeans.transitive_closure(must_link, not_link, len(X))\n",
    "print(f\"must_link transitive graph:{ml_graph};\\ncan not link graph:{cl_graph}\")"
   ]
  },
  {
   "cell_type": "code",
   "execution_count": 13,
   "metadata": {
    "scrolled": true
   },
   "outputs": [
    {
     "name": "stdout",
     "output_type": "stream",
     "text": [
      "ml_info:\n",
      "groupe:[[0], [1], [2], [3], [4], [5], [6], [7], [8], [9], [10], [11], [12], [32, 13], [14], [15], [16], [17, 39], [18], [19], [27, 20], [21], [22], [23], [24], [25], [26], [28], [29], [30], [31], [33], [34], [35], [36], [37], [38], [40], [41], [42], [43], [44], [45], [46], [47], [48], [49], [50], [51], [52, 54], [56, 80, 53], [55], [57], [58, 60], [59], [61], [62], [68, 63], [64], [65, 69], [66], [67], [70], [77, 71], [72], [73], [98, 74], [75], [76], [78], [79], [81], [96, 82], [97, 83], [84], [85], [86], [87], [88], [89], [90], [91], [92], [93], [94], [99, 95], [100], [101], [102], [103], [104, 131], [105], [106], [107], [108], [109], [136, 110], [111], [112], [113], [114], [115, 126], [116], [117], [118], [119], [120], [121], [122], [123, 142], [124], [125], [127], [128], [129, 130], [132], [133], [134], [135], [137], [138], [139], [140], [141], [143], [144], [145], [146], [147], [148], [149]]\n",
      "scores:[0.0, 0.0, 0.0, 0.0, 0.0, 0.0, 0.0, 0.0, 0.0, 0.0, 0.0, 0.0, 0.0, 1.0899999999999999, 0.0, 0.0, 0.0, 0.015000000000000015, 0.0, 0.0, 0.04500000000000003, 0.0, 0.0, 0.0, 0.0, 0.0, 0.0, 0.0, 0.0, 0.0, 0.0, 0.0, 0.0, 0.0, 0.0, 0.0, 0.0, 0.0, 0.0, 0.0, 0.0, 0.0, 0.0, 0.0, 0.0, 0.0, 0.0, 0.0, 0.0, 0.17000000000000043, 1.6066666666666667, 0.0, 0.0, 2.334999999999999, 0.0, 0.0, 0.0, 0.2749999999999999, 0.0, 0.9550000000000007, 0.0, 0.0, 0.0, 0.7800000000000002, 0.0, 0.0, 1.7900000000000007, 0.0, 0.0, 0.0, 0.0, 0.0, 0.075, 0.40499999999999986, 0.0, 0.0, 0.0, 0.0, 0.0, 0.0, 0.0, 0.0, 0.0, 0.0, 0.0, 0.030000000000000096, 0.0, 0.0, 0.0, 0.0, 1.5000000000000004, 0.0, 0.0, 0.0, 0.0, 0.0, 0.24499999999999994, 0.0, 0.0, 0.0, 0.0, 0.3500000000000001, 0.0, 0.0, 0.0, 0.0, 0.0, 0.0, 0.0, 0.14999999999999986, 0.0, 0.0, 0.0, 0.0, 0.12999999999999995, 0.0, 0.0, 0.0, 0.0, 0.0, 0.0, 0.0, 0.0, 0.0, 0.0, 0.0, 0.0, 0.0, 0.0, 0.0, 0.0]\n",
      "centroids:[[5.1, 3.5, 1.4, 0.2], [4.9, 3.0, 1.4, 0.2], [4.7, 3.2, 1.3, 0.2], [4.6, 3.1, 1.5, 0.2], [5.0, 3.6, 1.4, 0.2], [5.4, 3.9, 1.7, 0.4], [4.6, 3.4, 1.4, 0.3], [5.0, 3.4, 1.5, 0.2], [4.4, 2.9, 1.4, 0.2], [4.9, 3.1, 1.5, 0.1], [5.4, 3.7, 1.5, 0.2], [4.8, 3.4, 1.6, 0.2], [4.8, 3.0, 1.4, 0.1], [4.75, 3.55, 1.3, 0.1], [5.8, 4.0, 1.2, 0.2], [5.7, 4.4, 1.5, 0.4], [5.4, 3.9, 1.3, 0.4], [5.1, 3.45, 1.45, 0.25], [5.7, 3.8, 1.7, 0.3], [5.1, 3.8, 1.5, 0.3], [5.300000000000001, 3.45, 1.6, 0.2], [5.1, 3.7, 1.5, 0.4], [4.6, 3.6, 1.0, 0.2], [5.1, 3.3, 1.7, 0.5], [4.8, 3.4, 1.9, 0.2], [5.0, 3.0, 1.6, 0.2], [5.0, 3.4, 1.6, 0.4], [5.2, 3.4, 1.4, 0.2], [4.7, 3.2, 1.6, 0.2], [4.8, 3.1, 1.6, 0.2], [5.4, 3.4, 1.5, 0.4], [5.5, 4.2, 1.4, 0.2], [4.9, 3.1, 1.5, 0.2], [5.0, 3.2, 1.2, 0.2], [5.5, 3.5, 1.3, 0.2], [4.9, 3.6, 1.4, 0.1], [4.4, 3.0, 1.3, 0.2], [5.0, 3.5, 1.3, 0.3], [4.5, 2.3, 1.3, 0.3], [4.4, 3.2, 1.3, 0.2], [5.0, 3.5, 1.6, 0.6], [5.1, 3.8, 1.9, 0.4], [4.8, 3.0, 1.4, 0.3], [5.1, 3.8, 1.6, 0.2], [4.6, 3.2, 1.4, 0.2], [5.3, 3.7, 1.5, 0.2], [5.0, 3.3, 1.4, 0.2], [7.0, 3.2, 4.7, 1.4], [6.4, 3.2, 4.5, 1.5], [6.7, 2.95, 4.75, 1.5], [5.766666666666667, 2.6666666666666665, 4.166666666666667, 1.3333333333333333], [5.7, 2.8, 4.5, 1.3], [4.9, 2.4, 3.3, 1.0], [5.8, 2.45, 4.05, 1.15], [5.2, 2.7, 3.9, 1.4], [5.9, 3.0, 4.2, 1.5], [6.0, 2.2, 4.0, 1.0], [6.15, 2.55, 4.6, 1.45], [5.6, 2.9, 3.6, 1.3], [6.15, 2.8, 4.15, 1.25], [5.6, 3.0, 4.5, 1.5], [5.8, 2.7, 4.1, 1.0], [5.9, 3.2, 4.8, 1.8], [6.4, 2.9, 4.5, 1.5], [6.3, 2.5, 4.9, 1.5], [6.1, 2.8, 4.7, 1.2], [5.75, 2.7, 3.65, 1.2000000000000002], [6.6, 3.0, 4.4, 1.4], [6.8, 2.8, 4.8, 1.4], [6.0, 2.9, 4.5, 1.5], [5.7, 2.6, 3.5, 1.0], [5.5, 2.4, 3.7, 1.0], [5.75, 2.8, 4.05, 1.25], [6.1, 2.8, 4.699999999999999, 1.4500000000000002], [5.4, 3.0, 4.5, 1.5], [6.0, 3.4, 4.5, 1.6], [6.7, 3.1, 4.7, 1.5], [6.3, 2.3, 4.4, 1.3], [5.6, 3.0, 4.1, 1.3], [5.5, 2.5, 4.0, 1.3], [5.5, 2.6, 4.4, 1.2], [6.1, 3.0, 4.6, 1.4], [5.8, 2.6, 4.0, 1.2], [5.0, 2.3, 3.3, 1.0], [5.6, 2.7, 4.2, 1.3], [5.7, 2.9, 4.15, 1.25], [6.3, 3.3, 6.0, 2.5], [5.8, 2.7, 5.1, 1.9], [7.1, 3.0, 5.9, 2.1], [6.3, 2.9, 5.6, 1.8], [7.2, 3.4, 6.1, 2.1], [7.6, 3.0, 6.6, 2.1], [4.9, 2.5, 4.5, 1.7], [7.3, 2.9, 6.3, 1.8], [6.7, 2.5, 5.8, 1.8], [7.2, 3.6, 6.1, 2.5], [6.4, 3.3, 5.35, 2.2], [6.4, 2.7, 5.3, 1.9], [6.8, 3.0, 5.5, 2.1], [5.7, 2.5, 5.0, 2.0], [5.8, 2.8, 5.1, 2.4], [6.300000000000001, 3.0, 5.05, 2.05], [6.5, 3.0, 5.5, 1.8], [7.7, 3.8, 6.7, 2.2], [7.7, 2.6, 6.9, 2.3], [6.0, 2.2, 5.0, 1.5], [6.9, 3.2, 5.7, 2.3], [5.6, 2.8, 4.9, 2.0], [7.7, 2.8, 6.7, 2.0], [6.05, 2.7, 5.0, 1.85], [6.7, 3.3, 5.7, 2.1], [7.2, 3.2, 6.0, 1.8], [6.1, 3.0, 4.9, 1.8], [6.4, 2.8, 5.6, 2.1], [7.300000000000001, 2.9, 5.949999999999999, 1.75], [6.4, 2.8, 5.6, 2.2], [6.3, 2.8, 5.1, 1.5], [6.1, 2.6, 5.6, 1.4], [7.7, 3.0, 6.1, 2.3], [6.4, 3.1, 5.5, 1.8], [6.0, 3.0, 4.8, 1.8], [6.9, 3.1, 5.4, 2.1], [6.7, 3.1, 5.6, 2.4], [6.9, 3.1, 5.1, 2.3], [6.8, 3.2, 5.9, 2.3], [6.7, 3.3, 5.7, 2.5], [6.7, 3.0, 5.2, 2.3], [6.3, 2.5, 5.0, 1.9], [6.5, 3.0, 5.2, 2.0], [6.2, 3.4, 5.4, 2.3], [5.9, 3.0, 5.1, 1.8]]\n"
     ]
    }
   ],
   "source": [
    "ml_info = cop_kmeans.get_ml_info(ml_graph, X)\n",
    "print(f\"ml_info:\\ngroupe:{ml_info[0]}\\nscores:{ml_info[1]}\\ncentroids:{ml_info[2]}\")"
   ]
  },
  {
   "cell_type": "code",
   "execution_count": 15,
   "metadata": {},
   "outputs": [
    {
     "data": {
      "text/plain": [
       "array([0, 0, 0, 0, 0, 0, 0, 0, 0, 0, 0, 0, 0, 0, 0, 0, 0, 0, 0, 0, 0, 0,\n",
       "       0, 0, 0, 0, 0, 0, 0, 0, 0, 0, 0, 0, 0, 0, 0, 0, 0, 0, 0, 0, 0, 0,\n",
       "       0, 0, 0, 0, 0, 0, 1, 1, 1, 1, 1, 1, 1, 1, 1, 1, 1, 1, 1, 1, 1, 1,\n",
       "       1, 1, 1, 1, 1, 1, 1, 1, 1, 1, 1, 1, 1, 1, 1, 1, 1, 1, 1, 1, 1, 1,\n",
       "       1, 1, 1, 1, 1, 1, 1, 1, 1, 1, 1, 1, 2, 2, 2, 2, 2, 2, 2, 2, 2, 2,\n",
       "       2, 2, 2, 2, 2, 2, 2, 2, 2, 2, 2, 2, 2, 2, 2, 2, 2, 2, 2, 2, 2, 2,\n",
       "       2, 2, 2, 2, 2, 2, 2, 2, 2, 2, 2, 2, 2, 2, 2, 2, 2, 2])"
      ]
     },
     "execution_count": 15,
     "metadata": {},
     "output_type": "execute_result"
    }
   ],
   "source": [
    "y"
   ]
  },
  {
   "cell_type": "code",
   "execution_count": 16,
   "metadata": {},
   "outputs": [
    {
     "name": "stdout",
     "output_type": "stream",
     "text": [
      "Initial centers: [array([6.7, 3.3, 5.7, 2.1]), array([4.5, 2.3, 1.3, 0.3]), array([5.5, 3.5, 1.3, 0.2])]\n"
     ]
    }
   ],
   "source": [
    "centers = cop_kmeans.initialize_centers(X, k=3, method=\"kmpp\")\n",
    "print(f\"Initial centers: {centers}\")"
   ]
  },
  {
   "cell_type": "code",
   "execution_count": 17,
   "metadata": {},
   "outputs": [
    {
     "name": "stdout",
     "output_type": "stream",
     "text": [
      "tolerance of each dim: 0.00011356176666666667\n"
     ]
    }
   ],
   "source": [
    "_tol = cop_kmeans.tolerance(tol=1e-4, dataset=X)\n",
    "print(f\"tolerance of each dim: {_tol}\")"
   ]
  },
  {
   "cell_type": "code",
   "execution_count": 18,
   "metadata": {},
   "outputs": [],
   "source": [
    "cluster_, centers_ = cop_kmeans.cop_kmeans(X, 3, ml=must_link, cl=not_link, initialization=\"kmpp\", max_iter=300, tol=1e-4)"
   ]
  },
  {
   "cell_type": "code",
   "execution_count": 19,
   "metadata": {},
   "outputs": [
    {
     "name": "stdout",
     "output_type": "stream",
     "text": [
      "Cluster: [1, 1, 1, 1, 1, 1, 1, 1, 1, 1, 1, 1, 1, 1, 1, 1, 1, 1, 1, 1, 1, 1, 1, 1, 1, 1, 1, 1, 1, 1, 1, 1, 1, 1, 1, 1, 1, 1, 1, 1, 1, 1, 1, 1, 1, 1, 1, 1, 1, 1, 2, 0, 2, 0, 2, 0, 0, 0, 0, 0, 0, 0, 0, 0, 0, 0, 0, 0, 0, 0, 0, 0, 0, 0, 0, 0, 0, 0, 0, 0, 0, 0, 0, 0, 0, 0, 0, 0, 0, 0, 0, 0, 0, 0, 0, 0, 0, 0, 0, 0, 2, 0, 2, 2, 2, 2, 0, 2, 2, 2, 2, 2, 2, 0, 2, 2, 2, 2, 2, 2, 2, 0, 0, 2, 2, 2, 2, 0, 2, 2, 2, 2, 2, 0, 2, 2, 2, 2, 0, 2, 2, 2, 2, 2, 2, 2, 0, 2, 2, 0]; Centers: [[5.907017543859649, 2.7543859649122817, 4.384210526315789, 1.4087719298245613], [5.005999999999999, 3.428000000000001, 1.4620000000000002, 0.2459999999999999], [6.732558139534882, 3.0279069767441853, 5.59767441860465, 2.0302325581395344]]\n"
     ]
    }
   ],
   "source": [
    "import json\n",
    "print(f\"Cluster: {json.dumps(cluster_)}; Centers: {json.dumps(centers_)}\")"
   ]
  },
  {
   "cell_type": "code",
   "execution_count": 21,
   "metadata": {},
   "outputs": [
    {
     "name": "stdout",
     "output_type": "stream",
     "text": [
      "150 150\n"
     ]
    }
   ],
   "source": [
    "print(len(cluster_), len(X))"
   ]
  },
  {
   "cell_type": "code",
   "execution_count": 22,
   "metadata": {},
   "outputs": [],
   "source": [
    "from sklearn.decomposition import PCA"
   ]
  },
  {
   "cell_type": "code",
   "execution_count": 23,
   "metadata": {},
   "outputs": [],
   "source": [
    "pca = PCA(n_components=2)\n",
    "pca_model = pca.fit(X)\n",
    "X_2d = pca_model.transform(X)"
   ]
  },
  {
   "cell_type": "code",
   "execution_count": 24,
   "metadata": {},
   "outputs": [],
   "source": [
    "centers_2D = pca_model.transform(centers_)"
   ]
  },
  {
   "cell_type": "code",
   "execution_count": 30,
   "metadata": {
    "scrolled": true
   },
   "outputs": [
    {
     "data": {
      "image/png": "[encoded data removed]",
      "text/plain": [
       "<Figure size 576x576 with 1 Axes>"
      ]
     },
     "metadata": {
      "needs_background": "light"
     },
     "output_type": "display_data"
    }
   ],
   "source": [
    "colors = ['navy', 'turquoise', 'darkorange']\n",
    "plt.figure(figsize=(8, 8))\n",
    "for color, c, target_name in zip(colors, [0, 1, 2], iris.target_names):\n",
    "    cluster_ids = [_id for _id, _c in enumerate(cluster_) if _c == c]\n",
    "    plt.scatter(X_2d[cluster_ids, 0], X_2d[cluster_ids, 1], color=color, lw=2, label=target_name)\n",
    "    plt.scatter(centers_2D[c, 0], centers_2D[c, 1], color=\"g\", marker=\"x\", s=169, lw=5, zorder=10)\n",
    "plt.title(\"PCA visualize of COP-Kmeans for Iris data\")\n",
    "plt.legend(loc=\"best\", shadow=False, scatterpoints=1)\n",
    "plt.show()"
   ]
  },
  {
   "cell_type": "code",
   "execution_count": 31,
   "metadata": {},
   "outputs": [],
   "source": [
    "from sklearn.cluster import KMeans\n",
    "kmeans = KMeans(n_clusters=3).fit(X) # same setting as COP-KMeans\n"
   ]
  },
  {
   "cell_type": "code",
   "execution_count": 32,
   "metadata": {
    "scrolled": true
   },
   "outputs": [
    {
     "data": {
      "image/png": "[encoded data removed]",
      "text/plain": [
       "<Figure size 576x576 with 1 Axes>"
      ]
     },
     "metadata": {
      "needs_background": "light"
     },
     "output_type": "display_data"
    }
   ],
   "source": [
    "km_centers_2D = pca_model.transform(kmeans.cluster_centers_)\n",
    "colors = ['navy', 'turquoise', 'darkorange']\n",
    "plt.figure(figsize=(8, 8))\n",
    "for color, c, target_name in zip(colors, [0, 1, 2], iris.target_names):\n",
    "    cluster_ids = [_id for _id, _c in enumerate(kmeans.labels_) if _c == c]\n",
    "    plt.scatter(X_2d[cluster_ids, 0], X_2d[cluster_ids, 1], color=color, lw=2, label=target_name)\n",
    "    plt.scatter(km_centers_2D[c, 0], km_centers_2D[c, 1], color=\"g\", marker=\"x\", s=169, lw=5, zorder=10)\n",
    "plt.title(\"PCA visualize of Kmeans for Iris data\")\n",
    "plt.legend(loc=\"best\", shadow=False, scatterpoints=1)\n",
    "plt.show()"
   ]
  },
  {
   "cell_type": "code",
   "execution_count": 33,
   "metadata": {},
   "outputs": [
    {
     "name": "stdout",
     "output_type": "stream",
     "text": [
      "COP-kMeans: [1, 1, 1, 1, 1, 1, 1, 1, 1, 1, 1, 1, 1, 1, 1, 1, 1, 1, 1, 1, 1, 1, 1, 1, 1, 1, 1, 1, 1, 1, 1, 1, 1, 1, 1, 1, 1, 1, 1, 1, 1, 1, 1, 1, 1, 1, 1, 1, 1, 1, 2, 0, 2, 0, 2, 0, 0, 0, 0, 0, 0, 0, 0, 0, 0, 0, 0, 0, 0, 0, 0, 0, 0, 0, 0, 0, 0, 0, 0, 0, 0, 0, 0, 0, 0, 0, 0, 0, 0, 0, 0, 0, 0, 0, 0, 0, 0, 0, 0, 0, 2, 0, 2, 2, 2, 2, 0, 2, 2, 2, 2, 2, 2, 0, 2, 2, 2, 2, 2, 2, 2, 0, 0, 2, 2, 2, 2, 0, 2, 2, 2, 2, 2, 0, 2, 2, 2, 2, 0, 2, 2, 2, 2, 2, 2, 2, 0, 2, 2, 0]\n",
      "kMeans: [0 0 0 0 0 0 0 0 0 0 0 0 0 0 0 0 0 0 0 0 0 0 0 0 0 0 0 0 0 0 0 0 0 0 0 0 0\n",
      " 0 0 0 0 0 0 0 0 0 0 0 0 0 1 1 2 1 1 1 1 1 1 1 1 1 1 1 1 1 1 1 1 1 1 1 1 1\n",
      " 1 1 1 2 1 1 1 1 1 1 1 1 1 1 1 1 1 1 1 1 1 1 1 1 1 1 2 1 2 2 2 2 1 2 2 2 2\n",
      " 2 2 1 1 2 2 2 2 1 2 1 2 1 2 2 1 1 2 2 2 2 2 1 2 2 2 2 1 2 2 2 1 2 2 2 1 2\n",
      " 2 1]\n"
     ]
    }
   ],
   "source": [
    "print(f\"COP-kMeans: {cluster_}\")\n",
    "print(f\"kMeans: {kmeans.labels_}\")"
   ]
  },
  {
   "cell_type": "code",
   "execution_count": 34,
   "metadata": {},
   "outputs": [
    {
     "name": "stdout",
     "output_type": "stream",
     "text": [
      "[0, 0, 0, 0, 0, 0, 0, 0, 0, 0, 0, 0, 0, 0, 0, 0, 0, 0, 0, 0, 0, 0, 0, 0, 0, 0, 0, 0, 0, 0, 0, 0, 0, 0, 0, 0, 0, 0, 0, 0, 0, 0, 0, 0, 0, 0, 0, 0, 0, 0, 2, 1, 2, 1, 2, 1, 1, 1, 1, 1, 1, 1, 1, 1, 1, 1, 1, 1, 1, 1, 1, 1, 1, 1, 1, 1, 1, 1, 1, 1, 1, 1, 1, 1, 1, 1, 1, 1, 1, 1, 1, 1, 1, 1, 1, 1, 1, 1, 1, 1, 2, 1, 2, 2, 2, 2, 1, 2, 2, 2, 2, 2, 2, 1, 2, 2, 2, 2, 2, 2, 2, 1, 1, 2, 2, 2, 2, 1, 2, 2, 2, 2, 2, 1, 2, 2, 2, 2, 1, 2, 2, 2, 2, 2, 2, 2, 1, 2, 2, 1]\n"
     ]
    }
   ],
   "source": [
    "cop_kmeans_labels_ = []\n",
    "for i in cluster_:\n",
    "    if i == 1:\n",
    "        cop_kmeans_labels_.append(0)\n",
    "    elif i == 0:\n",
    "        cop_kmeans_labels_.append(1)\n",
    "    else:\n",
    "        cop_kmeans_labels_.append(i)\n",
    "print(cop_kmeans_labels_)"
   ]
  },
  {
   "cell_type": "code",
   "execution_count": 35,
   "metadata": {},
   "outputs": [
    {
     "name": "stdout",
     "output_type": "stream",
     "text": [
      "different index: [50, 54, 77, 114, 119, 122, 123, 126, 142]\n"
     ]
    }
   ],
   "source": [
    "different_idx = [i for i, (_l, _c) in enumerate(zip(kmeans.labels_, cop_kmeans_labels_)) if _l != _c]\n",
    "print(f\"different index: {different_idx}\")"
   ]
  },
  {
   "cell_type": "code",
   "execution_count": 36,
   "metadata": {},
   "outputs": [
    {
     "name": "stdout",
     "output_type": "stream",
     "text": [
      "MUST link: [(39, 17), (53, 56), (13, 32), (110, 136), (97, 83), (130, 129), (27, 20), (99, 95), (63, 68), (74, 98), (82, 96), (126, 115), (60, 58), (142, 123), (77, 71), (69, 65), (52, 54), (53, 80), (131, 104)]\n",
      "Can not link: [(11, 110), (84, 26), (73, 49), (119, 58), (114, 63), (136, 65), (117, 92), (63, 148), (119, 14), (55, 102), (137, 11), (60, 3), (68, 140), (131, 88), (86, 42), (135, 86), (117, 37), (26, 144), (109, 47), (28, 100), (127, 15), (111, 89), (18, 87), (38, 139), (129, 10), (71, 20), (117, 97), (67, 129), (47, 127), (37, 91), (3, 118), (41, 130), (133, 54), (122, 54), (142, 62), (43, 121), (133, 22), (139, 86), (9, 95), (68, 132), (115, 88)]\n"
     ]
    }
   ],
   "source": [
    "print(\"MUST link:\", must_link)\n",
    "print(\"Can not link:\", not_link)"
   ]
  },
  {
   "cell_type": "code",
   "execution_count": 37,
   "metadata": {},
   "outputs": [
    {
     "name": "stdout",
     "output_type": "stream",
     "text": [
      "COP kmeans:\n",
      "violate must_link []\n",
      "violate not_link []\n"
     ]
    }
   ],
   "source": [
    "print(\"COP kmeans:\")\n",
    "print(\"violate must_link\", [(_i, _j) for _i, _j in must_link if cop_kmeans_labels_[_i] != cop_kmeans_labels_[_j]])\n",
    "print(\"violate not_link\", [(_i, _j) for _i, _j in not_link if cop_kmeans_labels_[_i] == cop_kmeans_labels_[_j]])\n"
   ]
  },
  {
   "cell_type": "code",
   "execution_count": 38,
   "metadata": {},
   "outputs": [
    {
     "name": "stdout",
     "output_type": "stream",
     "text": [
      "kmeans:\n",
      "violate must_link [(126, 115), (77, 71), (52, 54)]\n",
      "violate not_link [(119, 58), (114, 63), (133, 54), (142, 62)]\n"
     ]
    }
   ],
   "source": [
    "print(\"kmeans:\")\n",
    "print(\"violate must_link\", [(_i, _j) for _i, _j in must_link if kmeans.labels_[_i] != kmeans.labels_[_j]])\n",
    "print(\"violate not_link\", [(_i, _j) for _i, _j in not_link if kmeans.labels_[_i] == kmeans.labels_[_j]])\n"
   ]
  },
  {
   "cell_type": "code",
   "execution_count": null,
   "metadata": {},
   "outputs": [],
   "source": []
  }
 ],
 "metadata": {
  "kernelspec": {
   "display_name": "Python 3",
   "language": "python",
   "name": "python3"
  },
  "language_info": {
   "codemirror_mode": {
    "name": "ipython",
    "version": 3
   },
   "file_extension": ".py",
   "mimetype": "text/x-python",
   "name": "python",
   "nbconvert_exporter": "python",
   "pygments_lexer": "ipython3",
   "version": "3.8.5"
  }
 },
 "nbformat": 4,
 "nbformat_minor": 4
}
